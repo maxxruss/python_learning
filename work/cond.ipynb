{
 "cells": [
  {
   "cell_type": "code",
   "execution_count": 10,
   "id": "e7cd6ed3-268c-4320-91a3-3505143536bf",
   "metadata": {
    "tags": []
   },
   "outputs": [
    {
     "name": "stdin",
     "output_type": "stream",
     "text": [
      " 9\n",
      " 0\n"
     ]
    },
    {
     "name": "stdout",
     "output_type": "stream",
     "text": [
      "На ноль делить нельзя!\n"
     ]
    }
   ],
   "source": [
    "a = int(input())\n",
    "b = int(input())\n",
    "if b != 0 :\n",
    "    print(a / b)\n",
    "else:\n",
    "    print('На ноль делить нельзя!')"
   ]
  },
  {
   "cell_type": "code",
   "execution_count": 15,
   "id": "4c8d8fc5-ff57-4828-b852-90b1021c2a7f",
   "metadata": {
    "tags": []
   },
   "outputs": [
    {
     "name": "stdin",
     "output_type": "stream",
     "text": [
      " 7\n",
      " 10\n",
      " 8\n"
     ]
    },
    {
     "name": "stdout",
     "output_type": "stream",
     "text": [
      "Это нормально\n"
     ]
    }
   ],
   "source": [
    "A = int(input())\n",
    "B = int(input())\n",
    "H = int(input())\n",
    "\n",
    "if H < A:\n",
    "    print(\"Недосып\")\n",
    "elif H > B:\n",
    "    print(\"Пересып\")\n",
    "else:\n",
    "    print(\"Это нормально\")"
   ]
  },
  {
   "cell_type": "code",
   "execution_count": null,
   "id": "bb8b215f-3df2-43f1-9273-56a3bb2d33bc",
   "metadata": {
    "tags": []
   },
   "outputs": [],
   "source": [
    "year = int(input())\n",
    "\n",
    "if year < 1900 or year > 3000:\n",
    "    print(\"Вне диапазона\")\n",
    "elif year%400==0 or year%4==0 and year%100!=0:\n",
    "    print(\"Високосный\")\n",
    "else:\n",
    "    print(\"Обычный\")"
   ]
  },
  {
   "cell_type": "code",
   "execution_count": null,
   "id": "17ad1951-4fd6-4a21-8fcc-6bced308ab12",
   "metadata": {},
   "outputs": [],
   "source": []
  }
 ],
 "metadata": {
  "kernelspec": {
   "display_name": "Python 3 (ipykernel)",
   "language": "python",
   "name": "python3"
  },
  "language_info": {
   "codemirror_mode": {
    "name": "ipython",
    "version": 3
   },
   "file_extension": ".py",
   "mimetype": "text/x-python",
   "name": "python",
   "nbconvert_exporter": "python",
   "pygments_lexer": "ipython3",
   "version": "3.10.10"
  }
 },
 "nbformat": 4,
 "nbformat_minor": 5
}
